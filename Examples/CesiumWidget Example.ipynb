{
 "cells": [
  {
   "cell_type": "markdown",
   "metadata": {},
   "source": [
    "# Cesium Widget Example\n",
    "This is an example notebook accessing the CesiumWidget, in the way it should be accessed."
   ]
  },
  {
   "cell_type": "code",
   "execution_count": 2,
   "metadata": {
    "collapsed": true
   },
   "outputs": [],
   "source": [
    "import json\n",
    "from IPython import display\n",
    "from CesiumWidget import CesiumWidget"
   ]
  },
  {
   "cell_type": "markdown",
   "metadata": {},
   "source": [
    "If the installation of Cesiumjs is ok, it should be reachable [here](http://localhost:8888/nbextensions/CesiumWidget/cesium/index.html)."
   ]
  },
  {
   "cell_type": "markdown",
   "metadata": {},
   "source": [
    "Great, let's create a `CesiumWidget`!"
   ]
  },
  {
   "cell_type": "code",
   "execution_count": 3,
   "metadata": {
    "collapsed": false
   },
   "outputs": [],
   "source": [
    "cesium = CesiumWidget()"
   ]
  },
  {
   "cell_type": "markdown",
   "metadata": {},
   "source": [
    "Display the widget:"
   ]
  },
  {
   "cell_type": "code",
   "execution_count": 4,
   "metadata": {
    "collapsed": true
   },
   "outputs": [],
   "source": [
    "cesium"
   ]
  },
  {
   "cell_type": "markdown",
   "metadata": {},
   "source": [
    "You can change many settings of the widget:"
   ]
  },
  {
   "cell_type": "code",
   "execution_count": 5,
   "metadata": {
    "collapsed": false
   },
   "outputs": [
    {
     "data": {
      "text/plain": [
       "{'_flyto': <traitlets.traitlets.List at 0x41ca4a8>,\n",
       " '_view_module': <traitlets.traitlets.Unicode at 0x41ca2b0>,\n",
       " '_view_name': <traitlets.traitlets.Unicode at 0x41ca278>,\n",
       " '_zoomto': <traitlets.traitlets.List at 0x41ca400>,\n",
       " '_zoomtoregion': <traitlets.traitlets.List at 0x41ca630>,\n",
       " 'animation': <traitlets.traitlets.Bool at 0x41ca6a0>,\n",
       " 'base_layer_picker': <traitlets.traitlets.Bool at 0x41ca6d8>,\n",
       " 'czml': <traitlets.traitlets.Tuple at 0x41ca2e8>,\n",
       " 'enable_lighting': <traitlets.traitlets.Bool at 0x41ca940>,\n",
       " 'geocoder': <traitlets.traitlets.Bool at 0x41ca710>,\n",
       " 'geojson': <traitlets.traitlets.Unicode at 0x41ca3c8>,\n",
       " 'home_button': <traitlets.traitlets.Bool at 0x41ca748>,\n",
       " 'infobox': <traitlets.traitlets.Bool at 0x41ca780>,\n",
       " 'kml_url': <traitlets.traitlets.Unicode at 0x41ca390>,\n",
       " 'navigation_help_button': <traitlets.traitlets.Bool at 0x41ca860>,\n",
       " 'navigation_instructions_initially_visible': <traitlets.traitlets.Bool at 0x41ca898>,\n",
       " 'scene_3D_only': <traitlets.traitlets.Bool at 0x41ca8d0>,\n",
       " 'scene_mode': <traitlets.traitlets.CaselessStrEnum at 0x41ca908>,\n",
       " 'scene_mode_picker': <traitlets.traitlets.Bool at 0x41ca7b8>,\n",
       " 'selection_indicator': <traitlets.traitlets.Bool at 0x41ca7f0>,\n",
       " 'timeline': <traitlets.traitlets.Bool at 0x41ca828>}"
      ]
     },
     "execution_count": 5,
     "metadata": {},
     "output_type": "execute_result"
    }
   ],
   "source": [
    "cesium.class_own_traits()"
   ]
  },
  {
   "cell_type": "markdown",
   "metadata": {},
   "source": [
    "Let's turn on lighting: let there be light!"
   ]
  },
  {
   "cell_type": "code",
   "execution_count": 5,
   "metadata": {
    "collapsed": true
   },
   "outputs": [],
   "source": [
    "cesium.enable_lighting = True"
   ]
  },
  {
   "cell_type": "markdown",
   "metadata": {},
   "source": [
    "Load data for the viewer to display in the [CZML](https://github.com/AnalyticalGraphicsInc/cesium/wiki/CZML-Guide) format, which is based on JSON. It always expects a list of Packet objects."
   ]
  },
  {
   "cell_type": "code",
   "execution_count": 6,
   "metadata": {
    "collapsed": false
   },
   "outputs": [],
   "source": [
    "from CesiumWidget.examples.iss import ISS\n",
    "cesium.czml = ISS"
   ]
  },
  {
   "cell_type": "markdown",
   "metadata": {},
   "source": [
    "You can also use the excellent `czml` module to generate valid CZML: see an [example here](./CesiumWidget Example with CZML library.ipynb)."
   ]
  }
 ],
 "metadata": {
  "hide_input": false,
  "kernelspec": {
   "display_name": "Python 3",
   "language": "python",
   "name": "python3"
  },
  "language_info": {
   "codemirror_mode": {
    "name": "ipython",
    "version": 3
   },
   "file_extension": ".py",
   "mimetype": "text/x-python",
   "name": "python",
   "nbconvert_exporter": "python",
   "pygments_lexer": "ipython3",
   "version": "3.5.0"
  }
 },
 "nbformat": 4,
 "nbformat_minor": 0
}
